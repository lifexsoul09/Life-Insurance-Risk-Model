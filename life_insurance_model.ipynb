# Import necessary libraries
import pandas as pd
import matplotlib.pyplot as plt
import seaborn as sns

# Load the COIL 2000 dataset (txt file)
# Replace 'ticdata2000.txt' with the path to your downloaded file
column_names = ['attribute_' + str(i) for i in range(1, 86)] + ['CARAVAN']
data = pd.read_csv('/content/ticdata2000.txt', sep='\t', header=None, names=column_names)

# Show basic info about the dataset
print(data.info())

# Show the first few rows of the dataset
print(data.head())

# 1. Bar plot to show the distribution of the target variable 'CARAVAN'
plt.figure(figsize=(8, 6))
sns.countplot(x='CARAVAN', data=data)
plt.title('Count Plot for CARAVAN (Target)', fontsize=16)
plt.show()

# 2. Correlation between all features and the target variable 'CARAVAN'
correlation = data.corr()['CARAVAN'].sort_values(ascending=False)
print("Top 10 features correlated with CARAVAN:\n", correlation.head(10))

# 3. Visualizing the correlation between top 5 features and the target variable
top_features = correlation.index[1:6]  # Selecting top 5 features (excluding CARAVAN itself)
plt.figure(figsize=(10, 8))
sns.heatmap(data[top_features].corr(), annot=True, cmap='coolwarm', fmt='.2f')
plt.title('Heatmap of Top 5 Correlated Features', fontsize=16)
plt.show()

# 4. Boxplot to identify outliers in the top correlated feature
plt.figure(figsize=(8, 6))
sns.boxplot(data[top_features[0]])
plt.title(f'Boxplot of {top_features[0]}', fontsize=16)
plt.show()

# 5. Histograms for the top 5 most important features
data[top_features].hist(bins=15, figsize=(15, 10))
plt.suptitle('Histogram of Top 5 Correlated Features', fontsize=16)
plt.show()
